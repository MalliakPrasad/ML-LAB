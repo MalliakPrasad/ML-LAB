{
  "nbformat": 4,
  "nbformat_minor": 0,
  "metadata": {
    "colab": {
      "name": "k-means.ipynb",
      "provenance": []
    },
    "kernelspec": {
      "name": "python3",
      "display_name": "Python 3"
    },
    "language_info": {
      "name": "python"
    }
  },
  "cells": [
    {
      "cell_type": "code",
      "execution_count": 1,
      "metadata": {
        "id": "jDHUNOTCqcqm"
      },
      "outputs": [],
      "source": [
        "from sklearn.preprocessing import StandardScaler\n",
        "from sklearn.cluster import KMeans\n",
        "import pandas as pd\n",
        "import numpy as np\n",
        "from itertools import cycle, islice"
      ]
    },
    {
      "cell_type": "code",
      "source": [
        "from google.colab import drive\n",
        "drive.mount(\"/content/drive\")"
      ],
      "metadata": {
        "colab": {
          "base_uri": "https://localhost:8080/"
        },
        "id": "Ak4p88LDqv_1",
        "outputId": "b0503460-8104-49ea-eb1f-aab4012d5e08"
      },
      "execution_count": 2,
      "outputs": [
        {
          "output_type": "stream",
          "name": "stdout",
          "text": [
            "Mounted at /content/drive\n"
          ]
        }
      ]
    },
    {
      "cell_type": "code",
      "source": [
        "data = pd.read_csv('/content/minute_weather.csv')"
      ],
      "metadata": {
        "id": "3fNk70UIqxrd"
      },
      "execution_count": 4,
      "outputs": []
    },
    {
      "cell_type": "code",
      "source": [
        "data.shape\n"
      ],
      "metadata": {
        "colab": {
          "base_uri": "https://localhost:8080/"
        },
        "id": "aLPl5vHsqzEF",
        "outputId": "8b18436a-50ab-49b7-ed15-a6998997b9cb"
      },
      "execution_count": 5,
      "outputs": [
        {
          "output_type": "execute_result",
          "data": {
            "text/plain": [
              "(52800, 13)"
            ]
          },
          "metadata": {},
          "execution_count": 5
        }
      ]
    },
    {
      "cell_type": "code",
      "source": [
        "data.head()\n"
      ],
      "metadata": {
        "colab": {
          "base_uri": "https://localhost:8080/",
          "height": 357
        },
        "id": "5vBzxV0Jqzjt",
        "outputId": "40ada9e5-7763-42a4-a5ea-6bd84e40c999"
      },
      "execution_count": 6,
      "outputs": [
        {
          "output_type": "execute_result",
          "data": {
            "text/plain": [
              "   rowID     hpwren_timestamp  air_pressure  air_temp  avg_wind_direction  \\\n",
              "0      0  2011-09-10 00:00:49         912.3     64.76                97.0   \n",
              "1      1  2011-09-10 00:01:49         912.3     63.86               161.0   \n",
              "2      2  2011-09-10 00:02:49         912.3     64.22                77.0   \n",
              "3      3  2011-09-10 00:03:49         912.3     64.40                89.0   \n",
              "4      4  2011-09-10 00:04:49         912.3     64.40               185.0   \n",
              "\n",
              "   avg_wind_speed  max_wind_direction  max_wind_speed  min_wind_direction  \\\n",
              "0             1.2               106.0             1.6                85.0   \n",
              "1             0.8               215.0             1.5                43.0   \n",
              "2             0.7               143.0             1.2               324.0   \n",
              "3             1.2               112.0             1.6                12.0   \n",
              "4             0.4               260.0             1.0               100.0   \n",
              "\n",
              "   min_wind_speed  rain_accumulation  rain_duration  relative_humidity  \n",
              "0             1.0                NaN            NaN               60.5  \n",
              "1             0.2                0.0            0.0               39.9  \n",
              "2             0.3                0.0            0.0               43.0  \n",
              "3             0.7                0.0            0.0               49.5  \n",
              "4             0.1                0.0            0.0               58.8  "
            ],
            "text/html": [
              "\n",
              "  <div id=\"df-7971e51a-affe-45c2-bb38-541d328c1daa\">\n",
              "    <div class=\"colab-df-container\">\n",
              "      <div>\n",
              "<style scoped>\n",
              "    .dataframe tbody tr th:only-of-type {\n",
              "        vertical-align: middle;\n",
              "    }\n",
              "\n",
              "    .dataframe tbody tr th {\n",
              "        vertical-align: top;\n",
              "    }\n",
              "\n",
              "    .dataframe thead th {\n",
              "        text-align: right;\n",
              "    }\n",
              "</style>\n",
              "<table border=\"1\" class=\"dataframe\">\n",
              "  <thead>\n",
              "    <tr style=\"text-align: right;\">\n",
              "      <th></th>\n",
              "      <th>rowID</th>\n",
              "      <th>hpwren_timestamp</th>\n",
              "      <th>air_pressure</th>\n",
              "      <th>air_temp</th>\n",
              "      <th>avg_wind_direction</th>\n",
              "      <th>avg_wind_speed</th>\n",
              "      <th>max_wind_direction</th>\n",
              "      <th>max_wind_speed</th>\n",
              "      <th>min_wind_direction</th>\n",
              "      <th>min_wind_speed</th>\n",
              "      <th>rain_accumulation</th>\n",
              "      <th>rain_duration</th>\n",
              "      <th>relative_humidity</th>\n",
              "    </tr>\n",
              "  </thead>\n",
              "  <tbody>\n",
              "    <tr>\n",
              "      <th>0</th>\n",
              "      <td>0</td>\n",
              "      <td>2011-09-10 00:00:49</td>\n",
              "      <td>912.3</td>\n",
              "      <td>64.76</td>\n",
              "      <td>97.0</td>\n",
              "      <td>1.2</td>\n",
              "      <td>106.0</td>\n",
              "      <td>1.6</td>\n",
              "      <td>85.0</td>\n",
              "      <td>1.0</td>\n",
              "      <td>NaN</td>\n",
              "      <td>NaN</td>\n",
              "      <td>60.5</td>\n",
              "    </tr>\n",
              "    <tr>\n",
              "      <th>1</th>\n",
              "      <td>1</td>\n",
              "      <td>2011-09-10 00:01:49</td>\n",
              "      <td>912.3</td>\n",
              "      <td>63.86</td>\n",
              "      <td>161.0</td>\n",
              "      <td>0.8</td>\n",
              "      <td>215.0</td>\n",
              "      <td>1.5</td>\n",
              "      <td>43.0</td>\n",
              "      <td>0.2</td>\n",
              "      <td>0.0</td>\n",
              "      <td>0.0</td>\n",
              "      <td>39.9</td>\n",
              "    </tr>\n",
              "    <tr>\n",
              "      <th>2</th>\n",
              "      <td>2</td>\n",
              "      <td>2011-09-10 00:02:49</td>\n",
              "      <td>912.3</td>\n",
              "      <td>64.22</td>\n",
              "      <td>77.0</td>\n",
              "      <td>0.7</td>\n",
              "      <td>143.0</td>\n",
              "      <td>1.2</td>\n",
              "      <td>324.0</td>\n",
              "      <td>0.3</td>\n",
              "      <td>0.0</td>\n",
              "      <td>0.0</td>\n",
              "      <td>43.0</td>\n",
              "    </tr>\n",
              "    <tr>\n",
              "      <th>3</th>\n",
              "      <td>3</td>\n",
              "      <td>2011-09-10 00:03:49</td>\n",
              "      <td>912.3</td>\n",
              "      <td>64.40</td>\n",
              "      <td>89.0</td>\n",
              "      <td>1.2</td>\n",
              "      <td>112.0</td>\n",
              "      <td>1.6</td>\n",
              "      <td>12.0</td>\n",
              "      <td>0.7</td>\n",
              "      <td>0.0</td>\n",
              "      <td>0.0</td>\n",
              "      <td>49.5</td>\n",
              "    </tr>\n",
              "    <tr>\n",
              "      <th>4</th>\n",
              "      <td>4</td>\n",
              "      <td>2011-09-10 00:04:49</td>\n",
              "      <td>912.3</td>\n",
              "      <td>64.40</td>\n",
              "      <td>185.0</td>\n",
              "      <td>0.4</td>\n",
              "      <td>260.0</td>\n",
              "      <td>1.0</td>\n",
              "      <td>100.0</td>\n",
              "      <td>0.1</td>\n",
              "      <td>0.0</td>\n",
              "      <td>0.0</td>\n",
              "      <td>58.8</td>\n",
              "    </tr>\n",
              "  </tbody>\n",
              "</table>\n",
              "</div>\n",
              "      <button class=\"colab-df-convert\" onclick=\"convertToInteractive('df-7971e51a-affe-45c2-bb38-541d328c1daa')\"\n",
              "              title=\"Convert this dataframe to an interactive table.\"\n",
              "              style=\"display:none;\">\n",
              "        \n",
              "  <svg xmlns=\"http://www.w3.org/2000/svg\" height=\"24px\"viewBox=\"0 0 24 24\"\n",
              "       width=\"24px\">\n",
              "    <path d=\"M0 0h24v24H0V0z\" fill=\"none\"/>\n",
              "    <path d=\"M18.56 5.44l.94 2.06.94-2.06 2.06-.94-2.06-.94-.94-2.06-.94 2.06-2.06.94zm-11 1L8.5 8.5l.94-2.06 2.06-.94-2.06-.94L8.5 2.5l-.94 2.06-2.06.94zm10 10l.94 2.06.94-2.06 2.06-.94-2.06-.94-.94-2.06-.94 2.06-2.06.94z\"/><path d=\"M17.41 7.96l-1.37-1.37c-.4-.4-.92-.59-1.43-.59-.52 0-1.04.2-1.43.59L10.3 9.45l-7.72 7.72c-.78.78-.78 2.05 0 2.83L4 21.41c.39.39.9.59 1.41.59.51 0 1.02-.2 1.41-.59l7.78-7.78 2.81-2.81c.8-.78.8-2.07 0-2.86zM5.41 20L4 18.59l7.72-7.72 1.47 1.35L5.41 20z\"/>\n",
              "  </svg>\n",
              "      </button>\n",
              "      \n",
              "  <style>\n",
              "    .colab-df-container {\n",
              "      display:flex;\n",
              "      flex-wrap:wrap;\n",
              "      gap: 12px;\n",
              "    }\n",
              "\n",
              "    .colab-df-convert {\n",
              "      background-color: #E8F0FE;\n",
              "      border: none;\n",
              "      border-radius: 50%;\n",
              "      cursor: pointer;\n",
              "      display: none;\n",
              "      fill: #1967D2;\n",
              "      height: 32px;\n",
              "      padding: 0 0 0 0;\n",
              "      width: 32px;\n",
              "    }\n",
              "\n",
              "    .colab-df-convert:hover {\n",
              "      background-color: #E2EBFA;\n",
              "      box-shadow: 0px 1px 2px rgba(60, 64, 67, 0.3), 0px 1px 3px 1px rgba(60, 64, 67, 0.15);\n",
              "      fill: #174EA6;\n",
              "    }\n",
              "\n",
              "    [theme=dark] .colab-df-convert {\n",
              "      background-color: #3B4455;\n",
              "      fill: #D2E3FC;\n",
              "    }\n",
              "\n",
              "    [theme=dark] .colab-df-convert:hover {\n",
              "      background-color: #434B5C;\n",
              "      box-shadow: 0px 1px 3px 1px rgba(0, 0, 0, 0.15);\n",
              "      filter: drop-shadow(0px 1px 2px rgba(0, 0, 0, 0.3));\n",
              "      fill: #FFFFFF;\n",
              "    }\n",
              "  </style>\n",
              "\n",
              "      <script>\n",
              "        const buttonEl =\n",
              "          document.querySelector('#df-7971e51a-affe-45c2-bb38-541d328c1daa button.colab-df-convert');\n",
              "        buttonEl.style.display =\n",
              "          google.colab.kernel.accessAllowed ? 'block' : 'none';\n",
              "\n",
              "        async function convertToInteractive(key) {\n",
              "          const element = document.querySelector('#df-7971e51a-affe-45c2-bb38-541d328c1daa');\n",
              "          const dataTable =\n",
              "            await google.colab.kernel.invokeFunction('convertToInteractive',\n",
              "                                                     [key], {});\n",
              "          if (!dataTable) return;\n",
              "\n",
              "          const docLinkHtml = 'Like what you see? Visit the ' +\n",
              "            '<a target=\"_blank\" href=https://colab.research.google.com/notebooks/data_table.ipynb>data table notebook</a>'\n",
              "            + ' to learn more about interactive tables.';\n",
              "          element.innerHTML = '';\n",
              "          dataTable['output_type'] = 'display_data';\n",
              "          await google.colab.output.renderOutput(dataTable, element);\n",
              "          const docLink = document.createElement('div');\n",
              "          docLink.innerHTML = docLinkHtml;\n",
              "          element.appendChild(docLink);\n",
              "        }\n",
              "      </script>\n",
              "    </div>\n",
              "  </div>\n",
              "  "
            ]
          },
          "metadata": {},
          "execution_count": 6
        }
      ]
    },
    {
      "cell_type": "code",
      "source": [
        "#data sampling\n",
        "sampled_df = data[(data['rowID'] % 10) == 0]\n",
        "sampled_df.shape"
      ],
      "metadata": {
        "colab": {
          "base_uri": "https://localhost:8080/"
        },
        "id": "a9j3Djesq1Ym",
        "outputId": "3d261f7f-f130-48a0-8c99-893a605b08f8"
      },
      "execution_count": 7,
      "outputs": [
        {
          "output_type": "execute_result",
          "data": {
            "text/plain": [
              "(5280, 13)"
            ]
          },
          "metadata": {},
          "execution_count": 7
        }
      ]
    },
    {
      "cell_type": "code",
      "source": [
        "sampled_df.describe().transpose()"
      ],
      "metadata": {
        "colab": {
          "base_uri": "https://localhost:8080/",
          "height": 426
        },
        "id": "tvN_FGcvq3bd",
        "outputId": "60fb553d-c47f-4ed7-a92b-3213d7e934a7"
      },
      "execution_count": 8,
      "outputs": [
        {
          "output_type": "execute_result",
          "data": {
            "text/plain": [
              "                     count          mean           std     min       25%  \\\n",
              "rowID               5280.0  26395.000000  15243.490414    0.00  13197.50   \n",
              "air_pressure        5280.0    916.253636      1.617976  910.80    915.10   \n",
              "air_temp            5280.0     68.397739      9.813052   45.68     62.78   \n",
              "avg_wind_direction  5277.0    152.386015     98.888369    0.00     51.00   \n",
              "avg_wind_speed      5277.0      2.243017      1.560148    0.00      1.10   \n",
              "max_wind_direction  5277.0    152.857874     95.424243    0.00     56.00   \n",
              "max_wind_speed      5277.0      2.766648      1.820335    0.10      1.50   \n",
              "min_wind_direction  5277.0    161.459352    102.677449    0.00     59.00   \n",
              "min_wind_speed      5277.0      1.704586      1.339688    0.00      0.80   \n",
              "rain_accumulation   5279.0      0.000036      0.001039    0.00      0.00   \n",
              "rain_duration       5279.0      0.090926      2.048870    0.00      0.00   \n",
              "relative_humidity   5280.0     46.069678     23.603713    5.10     27.80   \n",
              "\n",
              "                         50%       75%       max  \n",
              "rowID               26395.00  39592.50  52790.00  \n",
              "air_pressure          916.20    917.50    920.10  \n",
              "air_temp               70.16     75.74     90.68  \n",
              "avg_wind_direction    175.00    213.00    359.00  \n",
              "avg_wind_speed          1.90      3.00     23.40  \n",
              "max_wind_direction    180.00    219.00    359.00  \n",
              "max_wind_speed          2.40      3.70     24.50  \n",
              "min_wind_direction    175.00    212.00    359.00  \n",
              "min_wind_speed          1.40      2.40     21.60  \n",
              "rain_accumulation       0.00      0.00      0.04  \n",
              "rain_duration           0.00      0.00     60.00  \n",
              "relative_humidity      38.60     60.30     92.30  "
            ],
            "text/html": [
              "\n",
              "  <div id=\"df-0163fecc-f08b-47c1-bdb5-9b17299393d4\">\n",
              "    <div class=\"colab-df-container\">\n",
              "      <div>\n",
              "<style scoped>\n",
              "    .dataframe tbody tr th:only-of-type {\n",
              "        vertical-align: middle;\n",
              "    }\n",
              "\n",
              "    .dataframe tbody tr th {\n",
              "        vertical-align: top;\n",
              "    }\n",
              "\n",
              "    .dataframe thead th {\n",
              "        text-align: right;\n",
              "    }\n",
              "</style>\n",
              "<table border=\"1\" class=\"dataframe\">\n",
              "  <thead>\n",
              "    <tr style=\"text-align: right;\">\n",
              "      <th></th>\n",
              "      <th>count</th>\n",
              "      <th>mean</th>\n",
              "      <th>std</th>\n",
              "      <th>min</th>\n",
              "      <th>25%</th>\n",
              "      <th>50%</th>\n",
              "      <th>75%</th>\n",
              "      <th>max</th>\n",
              "    </tr>\n",
              "  </thead>\n",
              "  <tbody>\n",
              "    <tr>\n",
              "      <th>rowID</th>\n",
              "      <td>5280.0</td>\n",
              "      <td>26395.000000</td>\n",
              "      <td>15243.490414</td>\n",
              "      <td>0.00</td>\n",
              "      <td>13197.50</td>\n",
              "      <td>26395.00</td>\n",
              "      <td>39592.50</td>\n",
              "      <td>52790.00</td>\n",
              "    </tr>\n",
              "    <tr>\n",
              "      <th>air_pressure</th>\n",
              "      <td>5280.0</td>\n",
              "      <td>916.253636</td>\n",
              "      <td>1.617976</td>\n",
              "      <td>910.80</td>\n",
              "      <td>915.10</td>\n",
              "      <td>916.20</td>\n",
              "      <td>917.50</td>\n",
              "      <td>920.10</td>\n",
              "    </tr>\n",
              "    <tr>\n",
              "      <th>air_temp</th>\n",
              "      <td>5280.0</td>\n",
              "      <td>68.397739</td>\n",
              "      <td>9.813052</td>\n",
              "      <td>45.68</td>\n",
              "      <td>62.78</td>\n",
              "      <td>70.16</td>\n",
              "      <td>75.74</td>\n",
              "      <td>90.68</td>\n",
              "    </tr>\n",
              "    <tr>\n",
              "      <th>avg_wind_direction</th>\n",
              "      <td>5277.0</td>\n",
              "      <td>152.386015</td>\n",
              "      <td>98.888369</td>\n",
              "      <td>0.00</td>\n",
              "      <td>51.00</td>\n",
              "      <td>175.00</td>\n",
              "      <td>213.00</td>\n",
              "      <td>359.00</td>\n",
              "    </tr>\n",
              "    <tr>\n",
              "      <th>avg_wind_speed</th>\n",
              "      <td>5277.0</td>\n",
              "      <td>2.243017</td>\n",
              "      <td>1.560148</td>\n",
              "      <td>0.00</td>\n",
              "      <td>1.10</td>\n",
              "      <td>1.90</td>\n",
              "      <td>3.00</td>\n",
              "      <td>23.40</td>\n",
              "    </tr>\n",
              "    <tr>\n",
              "      <th>max_wind_direction</th>\n",
              "      <td>5277.0</td>\n",
              "      <td>152.857874</td>\n",
              "      <td>95.424243</td>\n",
              "      <td>0.00</td>\n",
              "      <td>56.00</td>\n",
              "      <td>180.00</td>\n",
              "      <td>219.00</td>\n",
              "      <td>359.00</td>\n",
              "    </tr>\n",
              "    <tr>\n",
              "      <th>max_wind_speed</th>\n",
              "      <td>5277.0</td>\n",
              "      <td>2.766648</td>\n",
              "      <td>1.820335</td>\n",
              "      <td>0.10</td>\n",
              "      <td>1.50</td>\n",
              "      <td>2.40</td>\n",
              "      <td>3.70</td>\n",
              "      <td>24.50</td>\n",
              "    </tr>\n",
              "    <tr>\n",
              "      <th>min_wind_direction</th>\n",
              "      <td>5277.0</td>\n",
              "      <td>161.459352</td>\n",
              "      <td>102.677449</td>\n",
              "      <td>0.00</td>\n",
              "      <td>59.00</td>\n",
              "      <td>175.00</td>\n",
              "      <td>212.00</td>\n",
              "      <td>359.00</td>\n",
              "    </tr>\n",
              "    <tr>\n",
              "      <th>min_wind_speed</th>\n",
              "      <td>5277.0</td>\n",
              "      <td>1.704586</td>\n",
              "      <td>1.339688</td>\n",
              "      <td>0.00</td>\n",
              "      <td>0.80</td>\n",
              "      <td>1.40</td>\n",
              "      <td>2.40</td>\n",
              "      <td>21.60</td>\n",
              "    </tr>\n",
              "    <tr>\n",
              "      <th>rain_accumulation</th>\n",
              "      <td>5279.0</td>\n",
              "      <td>0.000036</td>\n",
              "      <td>0.001039</td>\n",
              "      <td>0.00</td>\n",
              "      <td>0.00</td>\n",
              "      <td>0.00</td>\n",
              "      <td>0.00</td>\n",
              "      <td>0.04</td>\n",
              "    </tr>\n",
              "    <tr>\n",
              "      <th>rain_duration</th>\n",
              "      <td>5279.0</td>\n",
              "      <td>0.090926</td>\n",
              "      <td>2.048870</td>\n",
              "      <td>0.00</td>\n",
              "      <td>0.00</td>\n",
              "      <td>0.00</td>\n",
              "      <td>0.00</td>\n",
              "      <td>60.00</td>\n",
              "    </tr>\n",
              "    <tr>\n",
              "      <th>relative_humidity</th>\n",
              "      <td>5280.0</td>\n",
              "      <td>46.069678</td>\n",
              "      <td>23.603713</td>\n",
              "      <td>5.10</td>\n",
              "      <td>27.80</td>\n",
              "      <td>38.60</td>\n",
              "      <td>60.30</td>\n",
              "      <td>92.30</td>\n",
              "    </tr>\n",
              "  </tbody>\n",
              "</table>\n",
              "</div>\n",
              "      <button class=\"colab-df-convert\" onclick=\"convertToInteractive('df-0163fecc-f08b-47c1-bdb5-9b17299393d4')\"\n",
              "              title=\"Convert this dataframe to an interactive table.\"\n",
              "              style=\"display:none;\">\n",
              "        \n",
              "  <svg xmlns=\"http://www.w3.org/2000/svg\" height=\"24px\"viewBox=\"0 0 24 24\"\n",
              "       width=\"24px\">\n",
              "    <path d=\"M0 0h24v24H0V0z\" fill=\"none\"/>\n",
              "    <path d=\"M18.56 5.44l.94 2.06.94-2.06 2.06-.94-2.06-.94-.94-2.06-.94 2.06-2.06.94zm-11 1L8.5 8.5l.94-2.06 2.06-.94-2.06-.94L8.5 2.5l-.94 2.06-2.06.94zm10 10l.94 2.06.94-2.06 2.06-.94-2.06-.94-.94-2.06-.94 2.06-2.06.94z\"/><path d=\"M17.41 7.96l-1.37-1.37c-.4-.4-.92-.59-1.43-.59-.52 0-1.04.2-1.43.59L10.3 9.45l-7.72 7.72c-.78.78-.78 2.05 0 2.83L4 21.41c.39.39.9.59 1.41.59.51 0 1.02-.2 1.41-.59l7.78-7.78 2.81-2.81c.8-.78.8-2.07 0-2.86zM5.41 20L4 18.59l7.72-7.72 1.47 1.35L5.41 20z\"/>\n",
              "  </svg>\n",
              "      </button>\n",
              "      \n",
              "  <style>\n",
              "    .colab-df-container {\n",
              "      display:flex;\n",
              "      flex-wrap:wrap;\n",
              "      gap: 12px;\n",
              "    }\n",
              "\n",
              "    .colab-df-convert {\n",
              "      background-color: #E8F0FE;\n",
              "      border: none;\n",
              "      border-radius: 50%;\n",
              "      cursor: pointer;\n",
              "      display: none;\n",
              "      fill: #1967D2;\n",
              "      height: 32px;\n",
              "      padding: 0 0 0 0;\n",
              "      width: 32px;\n",
              "    }\n",
              "\n",
              "    .colab-df-convert:hover {\n",
              "      background-color: #E2EBFA;\n",
              "      box-shadow: 0px 1px 2px rgba(60, 64, 67, 0.3), 0px 1px 3px 1px rgba(60, 64, 67, 0.15);\n",
              "      fill: #174EA6;\n",
              "    }\n",
              "\n",
              "    [theme=dark] .colab-df-convert {\n",
              "      background-color: #3B4455;\n",
              "      fill: #D2E3FC;\n",
              "    }\n",
              "\n",
              "    [theme=dark] .colab-df-convert:hover {\n",
              "      background-color: #434B5C;\n",
              "      box-shadow: 0px 1px 3px 1px rgba(0, 0, 0, 0.15);\n",
              "      filter: drop-shadow(0px 1px 2px rgba(0, 0, 0, 0.3));\n",
              "      fill: #FFFFFF;\n",
              "    }\n",
              "  </style>\n",
              "\n",
              "      <script>\n",
              "        const buttonEl =\n",
              "          document.querySelector('#df-0163fecc-f08b-47c1-bdb5-9b17299393d4 button.colab-df-convert');\n",
              "        buttonEl.style.display =\n",
              "          google.colab.kernel.accessAllowed ? 'block' : 'none';\n",
              "\n",
              "        async function convertToInteractive(key) {\n",
              "          const element = document.querySelector('#df-0163fecc-f08b-47c1-bdb5-9b17299393d4');\n",
              "          const dataTable =\n",
              "            await google.colab.kernel.invokeFunction('convertToInteractive',\n",
              "                                                     [key], {});\n",
              "          if (!dataTable) return;\n",
              "\n",
              "          const docLinkHtml = 'Like what you see? Visit the ' +\n",
              "            '<a target=\"_blank\" href=https://colab.research.google.com/notebooks/data_table.ipynb>data table notebook</a>'\n",
              "            + ' to learn more about interactive tables.';\n",
              "          element.innerHTML = '';\n",
              "          dataTable['output_type'] = 'display_data';\n",
              "          await google.colab.output.renderOutput(dataTable, element);\n",
              "          const docLink = document.createElement('div');\n",
              "          docLink.innerHTML = docLinkHtml;\n",
              "          element.appendChild(docLink);\n",
              "        }\n",
              "      </script>\n",
              "    </div>\n",
              "  </div>\n",
              "  "
            ]
          },
          "metadata": {},
          "execution_count": 8
        }
      ]
    },
    {
      "cell_type": "code",
      "source": [
        "sampled_df[sampled_df['rain_accumulation'] == 0].shape"
      ],
      "metadata": {
        "colab": {
          "base_uri": "https://localhost:8080/"
        },
        "id": "7ECltMd6q4vF",
        "outputId": "c019efc5-aa7b-4a2b-a9f7-1236b300bb3b"
      },
      "execution_count": 9,
      "outputs": [
        {
          "output_type": "execute_result",
          "data": {
            "text/plain": [
              "(5271, 13)"
            ]
          },
          "metadata": {},
          "execution_count": 9
        }
      ]
    },
    {
      "cell_type": "code",
      "source": [
        "sampled_df[sampled_df['rain_duration'] == 0].shape"
      ],
      "metadata": {
        "id": "f8eC5pS4q6Qc"
      },
      "execution_count": null,
      "outputs": []
    },
    {
      "cell_type": "code",
      "source": [
        "del sampled_df['rain_accumulation']\n",
        "del sampled_df['rain_duration']"
      ],
      "metadata": {
        "id": "lREim8buq7mm"
      },
      "execution_count": 10,
      "outputs": []
    },
    {
      "cell_type": "code",
      "source": [
        "rows_before = sampled_df.shape[0]\n",
        "sampled_df = sampled_df.dropna()\n",
        "rows_after = sampled_df.shape[0]"
      ],
      "metadata": {
        "id": "DdILJRlAq-Tm"
      },
      "execution_count": 11,
      "outputs": []
    },
    {
      "cell_type": "code",
      "source": [
        "rows_before - rows_after"
      ],
      "metadata": {
        "colab": {
          "base_uri": "https://localhost:8080/"
        },
        "id": "m2-vs3FzrAEu",
        "outputId": "caa8d5ef-abae-4136-e812-93ca3fc25d31"
      },
      "execution_count": 12,
      "outputs": [
        {
          "output_type": "execute_result",
          "data": {
            "text/plain": [
              "3"
            ]
          },
          "metadata": {},
          "execution_count": 12
        }
      ]
    },
    {
      "cell_type": "code",
      "source": [
        "sampled_df.columns"
      ],
      "metadata": {
        "colab": {
          "base_uri": "https://localhost:8080/"
        },
        "id": "-l6XFpUsrBeO",
        "outputId": "09a5fe1a-e0be-455c-c71d-bdaa46b121ab"
      },
      "execution_count": 13,
      "outputs": [
        {
          "output_type": "execute_result",
          "data": {
            "text/plain": [
              "Index(['rowID', 'hpwren_timestamp', 'air_pressure', 'air_temp',\n",
              "       'avg_wind_direction', 'avg_wind_speed', 'max_wind_direction',\n",
              "       'max_wind_speed', 'min_wind_direction', 'min_wind_speed',\n",
              "       'relative_humidity'],\n",
              "      dtype='object')"
            ]
          },
          "metadata": {},
          "execution_count": 13
        }
      ]
    },
    {
      "cell_type": "code",
      "source": [
        "features = ['air_pressure', 'air_temp', 'avg_wind_direction', 'avg_wind_speed', 'max_wind_direction', 'max_wind_speed','relative_humidity']"
      ],
      "metadata": {
        "id": "nVmFdtqqrD_1"
      },
      "execution_count": 14,
      "outputs": []
    },
    {
      "cell_type": "code",
      "source": [
        "select_df = sampled_df[features]"
      ],
      "metadata": {
        "id": "9r8A6yg9rEd1"
      },
      "execution_count": 15,
      "outputs": []
    },
    {
      "cell_type": "code",
      "source": [
        "select_df.columns"
      ],
      "metadata": {
        "colab": {
          "base_uri": "https://localhost:8080/"
        },
        "id": "igPSvFoirGq-",
        "outputId": "dc6b9a66-38c2-433a-b756-c8432bb50629"
      },
      "execution_count": 17,
      "outputs": [
        {
          "output_type": "execute_result",
          "data": {
            "text/plain": [
              "Index(['air_pressure', 'air_temp', 'avg_wind_direction', 'avg_wind_speed',\n",
              "       'max_wind_direction', 'max_wind_speed', 'relative_humidity'],\n",
              "      dtype='object')"
            ]
          },
          "metadata": {},
          "execution_count": 17
        }
      ]
    },
    {
      "cell_type": "code",
      "source": [
        "select_df"
      ],
      "metadata": {
        "colab": {
          "base_uri": "https://localhost:8080/",
          "height": 424
        },
        "id": "0VqmvLi7rIMm",
        "outputId": "0d99ad1c-4482-4e5e-c29a-c1d72a09fb5d"
      },
      "execution_count": 18,
      "outputs": [
        {
          "output_type": "execute_result",
          "data": {
            "text/plain": [
              "       air_pressure  air_temp  avg_wind_direction  avg_wind_speed  \\\n",
              "0             912.3     64.76                97.0             1.2   \n",
              "10            912.3     62.24               144.0             1.2   \n",
              "20            912.2     63.32               100.0             2.0   \n",
              "30            912.2     62.60                91.0             2.0   \n",
              "40            912.2     64.04                81.0             2.6   \n",
              "...             ...       ...                 ...             ...   \n",
              "52750         919.1     69.98               354.0             2.0   \n",
              "52760         919.1     70.16                 0.0             2.8   \n",
              "52770         919.2     69.98                 0.0             2.6   \n",
              "52780         919.2     69.98                10.0             3.2   \n",
              "52790         919.3     69.98                 4.0             3.3   \n",
              "\n",
              "       max_wind_direction  max_wind_speed  relative_humidity  \n",
              "0                   106.0             1.6               60.5  \n",
              "10                  167.0             1.8               38.5  \n",
              "20                  122.0             2.5               58.3  \n",
              "30                  103.0             2.4               57.9  \n",
              "40                   88.0             2.9               57.4  \n",
              "...                   ...             ...                ...  \n",
              "52750                 4.0             2.9               22.5  \n",
              "52760                15.0             3.3               24.9  \n",
              "52770                13.0             3.3               22.2  \n",
              "52780                18.0             3.7               23.1  \n",
              "52790                11.0             3.8               23.6  \n",
              "\n",
              "[5277 rows x 7 columns]"
            ],
            "text/html": [
              "\n",
              "  <div id=\"df-86c8f3c7-a4df-4c74-ae0f-f59fe2167b2a\">\n",
              "    <div class=\"colab-df-container\">\n",
              "      <div>\n",
              "<style scoped>\n",
              "    .dataframe tbody tr th:only-of-type {\n",
              "        vertical-align: middle;\n",
              "    }\n",
              "\n",
              "    .dataframe tbody tr th {\n",
              "        vertical-align: top;\n",
              "    }\n",
              "\n",
              "    .dataframe thead th {\n",
              "        text-align: right;\n",
              "    }\n",
              "</style>\n",
              "<table border=\"1\" class=\"dataframe\">\n",
              "  <thead>\n",
              "    <tr style=\"text-align: right;\">\n",
              "      <th></th>\n",
              "      <th>air_pressure</th>\n",
              "      <th>air_temp</th>\n",
              "      <th>avg_wind_direction</th>\n",
              "      <th>avg_wind_speed</th>\n",
              "      <th>max_wind_direction</th>\n",
              "      <th>max_wind_speed</th>\n",
              "      <th>relative_humidity</th>\n",
              "    </tr>\n",
              "  </thead>\n",
              "  <tbody>\n",
              "    <tr>\n",
              "      <th>0</th>\n",
              "      <td>912.3</td>\n",
              "      <td>64.76</td>\n",
              "      <td>97.0</td>\n",
              "      <td>1.2</td>\n",
              "      <td>106.0</td>\n",
              "      <td>1.6</td>\n",
              "      <td>60.5</td>\n",
              "    </tr>\n",
              "    <tr>\n",
              "      <th>10</th>\n",
              "      <td>912.3</td>\n",
              "      <td>62.24</td>\n",
              "      <td>144.0</td>\n",
              "      <td>1.2</td>\n",
              "      <td>167.0</td>\n",
              "      <td>1.8</td>\n",
              "      <td>38.5</td>\n",
              "    </tr>\n",
              "    <tr>\n",
              "      <th>20</th>\n",
              "      <td>912.2</td>\n",
              "      <td>63.32</td>\n",
              "      <td>100.0</td>\n",
              "      <td>2.0</td>\n",
              "      <td>122.0</td>\n",
              "      <td>2.5</td>\n",
              "      <td>58.3</td>\n",
              "    </tr>\n",
              "    <tr>\n",
              "      <th>30</th>\n",
              "      <td>912.2</td>\n",
              "      <td>62.60</td>\n",
              "      <td>91.0</td>\n",
              "      <td>2.0</td>\n",
              "      <td>103.0</td>\n",
              "      <td>2.4</td>\n",
              "      <td>57.9</td>\n",
              "    </tr>\n",
              "    <tr>\n",
              "      <th>40</th>\n",
              "      <td>912.2</td>\n",
              "      <td>64.04</td>\n",
              "      <td>81.0</td>\n",
              "      <td>2.6</td>\n",
              "      <td>88.0</td>\n",
              "      <td>2.9</td>\n",
              "      <td>57.4</td>\n",
              "    </tr>\n",
              "    <tr>\n",
              "      <th>...</th>\n",
              "      <td>...</td>\n",
              "      <td>...</td>\n",
              "      <td>...</td>\n",
              "      <td>...</td>\n",
              "      <td>...</td>\n",
              "      <td>...</td>\n",
              "      <td>...</td>\n",
              "    </tr>\n",
              "    <tr>\n",
              "      <th>52750</th>\n",
              "      <td>919.1</td>\n",
              "      <td>69.98</td>\n",
              "      <td>354.0</td>\n",
              "      <td>2.0</td>\n",
              "      <td>4.0</td>\n",
              "      <td>2.9</td>\n",
              "      <td>22.5</td>\n",
              "    </tr>\n",
              "    <tr>\n",
              "      <th>52760</th>\n",
              "      <td>919.1</td>\n",
              "      <td>70.16</td>\n",
              "      <td>0.0</td>\n",
              "      <td>2.8</td>\n",
              "      <td>15.0</td>\n",
              "      <td>3.3</td>\n",
              "      <td>24.9</td>\n",
              "    </tr>\n",
              "    <tr>\n",
              "      <th>52770</th>\n",
              "      <td>919.2</td>\n",
              "      <td>69.98</td>\n",
              "      <td>0.0</td>\n",
              "      <td>2.6</td>\n",
              "      <td>13.0</td>\n",
              "      <td>3.3</td>\n",
              "      <td>22.2</td>\n",
              "    </tr>\n",
              "    <tr>\n",
              "      <th>52780</th>\n",
              "      <td>919.2</td>\n",
              "      <td>69.98</td>\n",
              "      <td>10.0</td>\n",
              "      <td>3.2</td>\n",
              "      <td>18.0</td>\n",
              "      <td>3.7</td>\n",
              "      <td>23.1</td>\n",
              "    </tr>\n",
              "    <tr>\n",
              "      <th>52790</th>\n",
              "      <td>919.3</td>\n",
              "      <td>69.98</td>\n",
              "      <td>4.0</td>\n",
              "      <td>3.3</td>\n",
              "      <td>11.0</td>\n",
              "      <td>3.8</td>\n",
              "      <td>23.6</td>\n",
              "    </tr>\n",
              "  </tbody>\n",
              "</table>\n",
              "<p>5277 rows × 7 columns</p>\n",
              "</div>\n",
              "      <button class=\"colab-df-convert\" onclick=\"convertToInteractive('df-86c8f3c7-a4df-4c74-ae0f-f59fe2167b2a')\"\n",
              "              title=\"Convert this dataframe to an interactive table.\"\n",
              "              style=\"display:none;\">\n",
              "        \n",
              "  <svg xmlns=\"http://www.w3.org/2000/svg\" height=\"24px\"viewBox=\"0 0 24 24\"\n",
              "       width=\"24px\">\n",
              "    <path d=\"M0 0h24v24H0V0z\" fill=\"none\"/>\n",
              "    <path d=\"M18.56 5.44l.94 2.06.94-2.06 2.06-.94-2.06-.94-.94-2.06-.94 2.06-2.06.94zm-11 1L8.5 8.5l.94-2.06 2.06-.94-2.06-.94L8.5 2.5l-.94 2.06-2.06.94zm10 10l.94 2.06.94-2.06 2.06-.94-2.06-.94-.94-2.06-.94 2.06-2.06.94z\"/><path d=\"M17.41 7.96l-1.37-1.37c-.4-.4-.92-.59-1.43-.59-.52 0-1.04.2-1.43.59L10.3 9.45l-7.72 7.72c-.78.78-.78 2.05 0 2.83L4 21.41c.39.39.9.59 1.41.59.51 0 1.02-.2 1.41-.59l7.78-7.78 2.81-2.81c.8-.78.8-2.07 0-2.86zM5.41 20L4 18.59l7.72-7.72 1.47 1.35L5.41 20z\"/>\n",
              "  </svg>\n",
              "      </button>\n",
              "      \n",
              "  <style>\n",
              "    .colab-df-container {\n",
              "      display:flex;\n",
              "      flex-wrap:wrap;\n",
              "      gap: 12px;\n",
              "    }\n",
              "\n",
              "    .colab-df-convert {\n",
              "      background-color: #E8F0FE;\n",
              "      border: none;\n",
              "      border-radius: 50%;\n",
              "      cursor: pointer;\n",
              "      display: none;\n",
              "      fill: #1967D2;\n",
              "      height: 32px;\n",
              "      padding: 0 0 0 0;\n",
              "      width: 32px;\n",
              "    }\n",
              "\n",
              "    .colab-df-convert:hover {\n",
              "      background-color: #E2EBFA;\n",
              "      box-shadow: 0px 1px 2px rgba(60, 64, 67, 0.3), 0px 1px 3px 1px rgba(60, 64, 67, 0.15);\n",
              "      fill: #174EA6;\n",
              "    }\n",
              "\n",
              "    [theme=dark] .colab-df-convert {\n",
              "      background-color: #3B4455;\n",
              "      fill: #D2E3FC;\n",
              "    }\n",
              "\n",
              "    [theme=dark] .colab-df-convert:hover {\n",
              "      background-color: #434B5C;\n",
              "      box-shadow: 0px 1px 3px 1px rgba(0, 0, 0, 0.15);\n",
              "      filter: drop-shadow(0px 1px 2px rgba(0, 0, 0, 0.3));\n",
              "      fill: #FFFFFF;\n",
              "    }\n",
              "  </style>\n",
              "\n",
              "      <script>\n",
              "        const buttonEl =\n",
              "          document.querySelector('#df-86c8f3c7-a4df-4c74-ae0f-f59fe2167b2a button.colab-df-convert');\n",
              "        buttonEl.style.display =\n",
              "          google.colab.kernel.accessAllowed ? 'block' : 'none';\n",
              "\n",
              "        async function convertToInteractive(key) {\n",
              "          const element = document.querySelector('#df-86c8f3c7-a4df-4c74-ae0f-f59fe2167b2a');\n",
              "          const dataTable =\n",
              "            await google.colab.kernel.invokeFunction('convertToInteractive',\n",
              "                                                     [key], {});\n",
              "          if (!dataTable) return;\n",
              "\n",
              "          const docLinkHtml = 'Like what you see? Visit the ' +\n",
              "            '<a target=\"_blank\" href=https://colab.research.google.com/notebooks/data_table.ipynb>data table notebook</a>'\n",
              "            + ' to learn more about interactive tables.';\n",
              "          element.innerHTML = '';\n",
              "          dataTable['output_type'] = 'display_data';\n",
              "          await google.colab.output.renderOutput(dataTable, element);\n",
              "          const docLink = document.createElement('div');\n",
              "          docLink.innerHTML = docLinkHtml;\n",
              "          element.appendChild(docLink);\n",
              "        }\n",
              "      </script>\n",
              "    </div>\n",
              "  </div>\n",
              "  "
            ]
          },
          "metadata": {},
          "execution_count": 18
        }
      ]
    },
    {
      "cell_type": "code",
      "source": [
        "X = StandardScaler().fit_transform(select_df)\n",
        "X"
      ],
      "metadata": {
        "colab": {
          "base_uri": "https://localhost:8080/"
        },
        "id": "y0wlDcFcrKCt",
        "outputId": "a7e50e90-a4e6-4295-df0a-fac9a65aff68"
      },
      "execution_count": 19,
      "outputs": [
        {
          "output_type": "execute_result",
          "data": {
            "text/plain": [
              "array([[-2.4441149 , -0.37203061, -0.56013932, ..., -0.49109443,\n",
              "        -0.64095812,  0.61298933],\n",
              "       [-2.4441149 , -0.62902833, -0.08481088, ...,  0.1482167 ,\n",
              "        -0.5310778 , -0.31987974],\n",
              "       [-2.50592258, -0.51888645, -0.5297992 , ..., -0.32340627,\n",
              "        -0.14649668,  0.51970243],\n",
              "       ...,\n",
              "       [ 1.82061512,  0.1603218 , -1.5411363 , ..., -1.4657819 ,\n",
              "         0.29302459, -1.01105092],\n",
              "       [ 1.82061512,  0.1603218 , -1.44000259, ..., -1.41337934,\n",
              "         0.51278523, -0.97288809],\n",
              "       [ 1.8824228 ,  0.1603218 , -1.50068282, ..., -1.48674292,\n",
              "         0.56772539, -0.95168652]])"
            ]
          },
          "metadata": {},
          "execution_count": 19
        }
      ]
    },
    {
      "cell_type": "code",
      "source": [
        "#Using kmeans clustering\n",
        "kmeans = KMeans(n_clusters=12)\n",
        "model = kmeans.fit(X)\n",
        "print(\"model\\n\", model)"
      ],
      "metadata": {
        "colab": {
          "base_uri": "https://localhost:8080/"
        },
        "id": "vPiaApcQrLeN",
        "outputId": "2fa131d5-e6a9-4462-992f-037cf7462744"
      },
      "execution_count": 20,
      "outputs": [
        {
          "output_type": "stream",
          "name": "stdout",
          "text": [
            "model\n",
            " KMeans(n_clusters=12)\n"
          ]
        }
      ]
    },
    {
      "cell_type": "code",
      "source": [
        "centers = model.cluster_centers_\n",
        "centers\n"
      ],
      "metadata": {
        "colab": {
          "base_uri": "https://localhost:8080/"
        },
        "id": "Rxzld1qnrNke",
        "outputId": "5022cb59-4bfd-4d1c-fc40-44cee1ad89c8"
      },
      "execution_count": 21,
      "outputs": [
        {
          "output_type": "execute_result",
          "data": {
            "text/plain": [
              "array([[-0.68012367,  0.34250462,  0.32963507, -0.66162029,  0.51834175,\n",
              "        -0.68722994, -0.30370059],\n",
              "       [-0.7290024 ,  0.16110423, -1.16743896, -0.43667524, -1.06389728,\n",
              "        -0.48226211, -0.43963038],\n",
              "       [-1.18170668, -1.58521578,  0.66456306,  1.19547895,  0.8072213 ,\n",
              "         1.23316579,  1.6454495 ],\n",
              "       [-0.52658383, -1.53053044,  0.22114709, -0.58354319,  0.35330392,\n",
              "        -0.59866923,  1.66776231],\n",
              "       [-0.35537299,  0.91933273, -0.90457927,  1.37299354, -0.83277255,\n",
              "         1.36691922, -0.99231718],\n",
              "       [ 0.30232087,  0.19244651,  0.50000104,  0.94524056,  0.62160259,\n",
              "         0.90525128,  0.13209978],\n",
              "       [ 0.84909783, -0.44572228, -1.1830416 ,  0.03597503, -1.08008104,\n",
              "         0.0104301 ,  0.02495039],\n",
              "       [-2.03415002, -1.69582445,  0.54145002,  3.73986956,  0.69479522,\n",
              "         3.8015449 ,  1.76957522],\n",
              "       [ 1.00301714,  0.73659786,  0.30964114, -0.37868642,  0.5352515 ,\n",
              "        -0.3655104 , -0.59645454],\n",
              "       [ 0.04575136,  0.33685127,  1.55246344, -0.36593436,  1.84332015,\n",
              "        -0.25278716, -0.49546729],\n",
              "       [ 0.83079501,  0.70892902, -1.08919911, -0.55001064, -0.92885859,\n",
              "        -0.57068788, -0.69853978],\n",
              "       [ 0.26577379,  0.28765882,  1.90415209, -0.44627   , -1.38162826,\n",
              "        -0.31108534, -0.47158279]])"
            ]
          },
          "metadata": {},
          "execution_count": 21
        }
      ]
    }
  ]
}