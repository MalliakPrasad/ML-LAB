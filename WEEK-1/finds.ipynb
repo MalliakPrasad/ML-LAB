{
  "nbformat": 4,
  "nbformat_minor": 0,
  "metadata": {
    "colab": {
      "name": "finds.ipynb",
      "provenance": []
    },
    "kernelspec": {
      "name": "python3",
      "display_name": "Python 3"
    },
    "language_info": {
      "name": "python"
    }
  },
  "cells": [
    {
      "cell_type": "code",
      "execution_count": 13,
      "metadata": {
        "colab": {
          "base_uri": "https://localhost:8080/"
        },
        "id": "MyTJFai8NVpI",
        "outputId": "4fc289af-0ed2-45a8-e27a-69cad59900f4"
      },
      "outputs": [
        {
          "output_type": "stream",
          "name": "stdout",
          "text": [
            "    Color Toughness Fungus Appearance Poisonous\n",
            "0   GREEN      HARD     NO   WRINKLED       YES\n",
            "1   GREEN      HARD    YES     SMOOTH        NO\n",
            "2   BROWN      SOFT     NO   WRINKLED        NO\n",
            "3  ORANGE      HARD     NO   WRINKLED       YES\n",
            "4   GREEN      SOFT    YES     SMOOTH       YES\n",
            "5   GREEN      HARD    YES   WRINKLED       YES\n",
            "6  ORANGE      HARD     NO   WRINKLED       YES\n",
            "n The attributes are:  [['GREEN' 'HARD' 'NO' 'WRINKLED']\n",
            " ['GREEN' 'HARD' 'YES' 'SMOOTH']\n",
            " ['BROWN' 'SOFT' 'NO' 'WRINKLED']\n",
            " ['ORANGE' 'HARD' 'NO' 'WRINKLED']\n",
            " ['GREEN' 'SOFT' 'YES' 'SMOOTH']\n",
            " ['GREEN' 'HARD' 'YES' 'WRINKLED']\n",
            " ['ORANGE' 'HARD' 'NO' 'WRINKLED']]\n",
            "n The target is:  ['YES' 'NO' 'NO' 'YES' 'YES' 'YES' 'YES']\n"
          ]
        }
      ],
      "source": [
        "import pandas as pd #supports for multi dimensional array # built on top of Numpy\n",
        "import numpy as np\n",
        "\n",
        "# to read the data in the csv file\n",
        "data = pd.read_csv(\"/data.csv\")\n",
        "print(data)\n",
        "\n",
        "# making an array of all the attributes\n",
        "d = np.array(data)[:, :-1]\n",
        "print(\"n The attributes are: \", d)\n",
        "\n",
        "# segragating the target that has positive and negative examples\n",
        "target = np.array(data)[:, -1]\n",
        "print(\"n The target is: \", target)\n",
        "\n",
        "\n",
        "# training function to implement find-s algorithm\n",
        "def train(c, t):\n",
        "    for i, val in enumerate(t):\n",
        "        if val == \"YES\":\n",
        "            specific_hypothesis = c[i].copy()\n",
        "            print(\"Specific Hypothesis is \", specific_hypothesis)\n",
        "            break\n",
        "\n",
        "    for i, val in enumerate(c):\n",
        "        if t[i] == \"YES\":\n",
        "            for x in range(len(specific_hypothesis)):\n",
        "                if val[x] != specific_hypothesis[x]:\n",
        "                    specific_hypothesis[x] = '?'\n",
        "                else:\n",
        "                    pass\n",
        "\n",
        "    return specific_hypothesis\n",
        "    "
      ]
    },
    {
      "cell_type": "code",
      "source": [
        " print(\"\\n The final hypothesis is:\", train(d, target))\n",
        "\n"
      ],
      "metadata": {
        "colab": {
          "base_uri": "https://localhost:8080/"
        },
        "id": "6isTnhlAN9aZ",
        "outputId": "9f385a1e-10b8-4a40-9783-f1e27e84dd48"
      },
      "execution_count": 8,
      "outputs": [
        {
          "output_type": "stream",
          "name": "stdout",
          "text": [
            "Specific Hypothesis is  ['GREEN' 'HARD' 'NO' 'WRINKLED']\n",
            "\n",
            " The final hypothesis is: ['?' '?' '?' '?']\n"
          ]
        }
      ]
    },
    {
      "cell_type": "code",
      "source": [
        "import pandas as pd #supports for multi dimensional array # built on top of Numpy\n",
        "import numpy as np\n",
        "\n",
        "\n",
        "Row=int(input(\"Ënter the number of rows:\"))\n",
        "C = int(input(\"Enter the number of columns:\"))\n",
        " \n",
        "# Initialize matrix\n",
        "data = []\n",
        "print(\"Enter the entries rowwise:\")\n",
        " \n",
        "# For user input\n",
        "for i in range(Row):          # A for loop for row entries\n",
        "    a =[]\n",
        "    for j in range(C):      # A for loop for column entries\n",
        "         a.append(input())\n",
        "    data.append(a)\n",
        " \n",
        "print(data)\n",
        "\n",
        "\n",
        "d = np.array(data)[:, :-1]\n",
        "print(\"n The attributes are: \", d)\n",
        "\n",
        "\n",
        "target = np.array(data)[:, -1]\n",
        "print(\"n The target is: \", target)\n",
        "\n",
        "def FindS(c, t):\n",
        "    for i, val in enumerate(t):\n",
        "        if val == \"YES\":\n",
        "            specific_hypothesis = c[i].copy()\n",
        "            print(\"Specific HypothesisGH is \", specific_hypothesis)\n",
        "            break\n",
        "\n",
        "    for i, val in enumerate(c):\n",
        "        if t[i] == \"YES\":\n",
        "            for x in range(len(specific_hypothesis)):\n",
        "                if val[x] != specific_hypothesis[x]:\n",
        "                    specific_hypothesis[x] = '?'\n",
        "                else:\n",
        "                    pass\n",
        "\n",
        "    return specific_hypothesis\n",
        "\n",
        "\n"
      ],
      "metadata": {
        "colab": {
          "base_uri": "https://localhost:8080/"
        },
        "id": "sDsqRkzJOUyS",
        "outputId": "6f94cb24-6e74-4fa9-b7cc-5e09b68d9e5e"
      },
      "execution_count": 10,
      "outputs": [
        {
          "output_type": "stream",
          "name": "stdout",
          "text": [
            "Ënter the number of rows:7\n",
            "Enter the number of columns:5\n",
            "Enter the entries rowwise:\n",
            "GREEN\n",
            "HARD\n",
            "NO\n",
            "WRINKLED\n",
            "YES\n",
            "REEN\n",
            "HARD\n",
            "YES\n",
            "SMOOTH\n",
            "NO\n",
            "BROWN\n",
            "SOFT\n",
            "NO\n",
            "WRINKLED\n",
            "NO\n",
            "ORANGE\n",
            "HARD\n",
            "NO\n",
            "WRINKLED\n",
            "YES\n",
            "GREEN\n",
            "SOFT\n",
            "YES\n",
            "SMOOTH\n",
            "YES\n",
            "GREEN\n",
            "HARD\n",
            "YES\n",
            "WRINKLED\n",
            "YES\n",
            "ORANGE\n",
            "ARD\n",
            "NO\n",
            "WRINKLED\n",
            "YES\n",
            "[['GREEN', 'HARD', 'NO', 'WRINKLED', 'YES'], ['REEN', 'HARD', 'YES', 'SMOOTH', 'NO'], ['BROWN', 'SOFT', 'NO', 'WRINKLED', 'NO'], ['ORANGE', 'HARD', 'NO', 'WRINKLED', 'YES'], ['GREEN', 'SOFT', 'YES', 'SMOOTH', 'YES'], ['GREEN', 'HARD', 'YES', 'WRINKLED', 'YES'], ['ORANGE', 'ARD', 'NO', 'WRINKLED', 'YES']]\n",
            "n The attributes are:  [['GREEN' 'HARD' 'NO' 'WRINKLED']\n",
            " ['REEN' 'HARD' 'YES' 'SMOOTH']\n",
            " ['BROWN' 'SOFT' 'NO' 'WRINKLED']\n",
            " ['ORANGE' 'HARD' 'NO' 'WRINKLED']\n",
            " ['GREEN' 'SOFT' 'YES' 'SMOOTH']\n",
            " ['GREEN' 'HARD' 'YES' 'WRINKLED']\n",
            " ['ORANGE' 'ARD' 'NO' 'WRINKLED']]\n",
            "n The target is:  ['YES' 'NO' 'NO' 'YES' 'YES' 'YES' 'YES']\n"
          ]
        }
      ]
    },
    {
      "cell_type": "code",
      "source": [
        "print(\"n The final hypothesis is:\", FindS(d, target))\n",
        "\n"
      ],
      "metadata": {
        "colab": {
          "base_uri": "https://localhost:8080/"
        },
        "id": "jTaDzT4_TbgJ",
        "outputId": "9a366c45-6e61-422a-cb2e-979b4414432a"
      },
      "execution_count": 11,
      "outputs": [
        {
          "output_type": "stream",
          "name": "stdout",
          "text": [
            "Specific Hypothesis is  ['GREEN' 'HARD' 'NO' 'WRINKLED']\n",
            "n The final hypothesis is: ['?' '?' '?' '?']\n"
          ]
        }
      ]
    }
  ]
}